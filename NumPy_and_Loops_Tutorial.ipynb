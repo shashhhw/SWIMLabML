{
  "nbformat": 4,
  "nbformat_minor": 0,
  "metadata": {
    "colab": {
      "name": "NumPy and Loops Tutorial",
      "provenance": [],
      "collapsed_sections": []
    },
    "kernelspec": {
      "name": "python3",
      "display_name": "Python 3"
    },
    "accelerator": "TPU"
  },
  "cells": [
    {
      "cell_type": "markdown",
      "metadata": {
        "id": "HFDuVuwwM9tL"
      },
      "source": [
        "Welcome to your first Python Assignment! In this lab we will get our hands dirty with Python and the NumPy library. We will also work with loops and indexing. You will need a Google Account to save your assignments.\r\n",
        "\r\n",
        "**Instructions:**\r\n",
        "*   Type out your code and press the arrow icon at the top of every cell to run the code and see if it works!\r\n",
        "\r\n",
        "**Learning Objectives**\r\n",
        "* Use GoogleColab notebook for future assignments\r\n",
        "*Use NumPy functions and its matrix/vector operations\r\n",
        "\r\n",
        "\r\n",
        "\r\n"
      ]
    },
    {
      "cell_type": "markdown",
      "metadata": {
        "id": "OEJQXuM4N98b"
      },
      "source": [
        "## About GoogleColab ##\r\n",
        "\r\n",
        "GoogleColab is an interactive coding environment embedded in a webpage. You will be using iPython notebooks in this class. You only need to write code between the **### START CODE HERE ###** and **### END CODE HERE ###** comments. After writing your code, you can run the cell by either pressing \"SHIFT\"+\"ENTER\" or by clicking on \"Run Cell\" (denoted by a play symbol) in the upper bar of the notebook. "
      ]
    },
    {
      "cell_type": "markdown",
      "metadata": {
        "id": "B1ZkB5hnORSD"
      },
      "source": [
        "**Exercise**: Set test to `\"Hello World\"` in the cell below to print \"Hello World\" and run the two cells below."
      ]
    },
    {
      "cell_type": "code",
      "metadata": {
        "id": "Vd6SmLg8MfLF"
      },
      "source": [
        "### START CODE HERE ###\r\n",
        "test = \"\"\r\n",
        "### END CODE HERE ###"
      ],
      "execution_count": null,
      "outputs": []
    },
    {
      "cell_type": "code",
      "metadata": {
        "id": "8fk0EBLEOb8h"
      },
      "source": [
        "print (\"test: \" + test)"
      ],
      "execution_count": null,
      "outputs": []
    },
    {
      "cell_type": "markdown",
      "metadata": {
        "id": "-LQwYJhUOffL"
      },
      "source": [
        "**Expected output**:\r\n",
        "test: Hello World"
      ]
    },
    {
      "cell_type": "markdown",
      "metadata": {
        "id": "9BHml2ZQOl0r"
      },
      "source": [
        "**What you need to remember**:\r\n",
        "* Run your cells using SHIFT+ENTER (or \"Run cell\")\r\n",
        "* Write code in the designated areas\r\n",
        "* Do not modify the code outside of the designated areas"
      ]
    },
    {
      "cell_type": "markdown",
      "metadata": {
        "id": "sd6-S28QeefA"
      },
      "source": [
        "####PART 1: Working with Numpy####\r\n",
        "\r\n",
        "The syntax for all operations can be found on numpy.org or a google search."
      ]
    },
    {
      "cell_type": "code",
      "metadata": {
        "id": "bml1qVxkOlSE"
      },
      "source": [
        "#Import NumPy library\r\n",
        "import numpy"
      ],
      "execution_count": null,
      "outputs": []
    },
    {
      "cell_type": "code",
      "metadata": {
        "id": "kr6TyMAjPG2Y"
      },
      "source": [
        "#Define an row-vector/array\r\n",
        "arr1 = numpy.array([1, 2, 3])\r\n",
        "arr2 = numpy.array([3, 1, 2])\r\n",
        "\r\n",
        "#Define a matrix\r\n",
        "mat1 = numpy.matrix([[1, 2, 3], [4, 5, 6], [7, 8, 9]])\r\n",
        "mat2 = numpy.matrix([[5, 7, 6], [3, 1, 2], [4, 8, 9]])"
      ],
      "execution_count": null,
      "outputs": []
    },
    {
      "cell_type": "code",
      "metadata": {
        "id": "qQUt29WQPPqD"
      },
      "source": [
        "print('Vectors = ')\r\n",
        "print(arr1)\r\n",
        "print(arr2)\r\n",
        "\r\n",
        "print('matrix 1 = ')\r\n",
        "print(mat1)\r\n",
        "\r\n",
        "print('matrix = ')\r\n",
        "print(mat2)"
      ],
      "execution_count": null,
      "outputs": []
    },
    {
      "cell_type": "markdown",
      "metadata": {
        "id": "TN3KDSE0UnmV"
      },
      "source": [
        "Try solving the next bit of code using the above as reference. Define one array and two matrices."
      ]
    },
    {
      "cell_type": "code",
      "metadata": {
        "id": "A8LQDFDYUy6Y"
      },
      "source": [
        "### START CODE HERE ###\r\n",
        "arr1 = \r\n",
        "\r\n",
        "mat1 = \r\n",
        "mat2 = \r\n",
        "### END CODE HERE ###"
      ],
      "execution_count": null,
      "outputs": []
    },
    {
      "cell_type": "code",
      "metadata": {
        "id": "74aSfqnmVrJj"
      },
      "source": [
        "print('Array = ')\r\n",
        "print(arr)\r\n",
        "\r\n",
        "print('matrix 1 = ')\r\n",
        "print(mat1)\r\n",
        "\r\n",
        "print('matrix = ')\r\n",
        "print(mat2)"
      ],
      "execution_count": null,
      "outputs": []
    },
    {
      "cell_type": "markdown",
      "metadata": {
        "id": "7rpiijwdQvxH"
      },
      "source": [
        "Let's now perform some matrix operations"
      ]
    },
    {
      "cell_type": "code",
      "metadata": {
        "id": "x7oIF5ZcVg5h"
      },
      "source": [
        "#Matrix addition\r\n",
        "mat_add = numpy.add(mat1, mat2)\r\n",
        "\r\n",
        "print('Addition: ')\r\n",
        "print(mat_add)"
      ],
      "execution_count": null,
      "outputs": []
    },
    {
      "cell_type": "code",
      "metadata": {
        "id": "QLiYftXkYd2C"
      },
      "source": [
        "#Matrix Subtraction\r\n",
        "mat_sub = numpy.subtract(mat1, mat2)\r\n",
        "\r\n",
        "print('Subtraction: ')\r\n",
        "print(mat_sub)"
      ],
      "execution_count": null,
      "outputs": []
    },
    {
      "cell_type": "code",
      "metadata": {
        "id": "aDwzislOYf85"
      },
      "source": [
        "#Matrix multiplication\r\n",
        "mat_mul_1 = numpy.matmul(mat1, mat2)\r\n",
        "mat_mul_2 = numpy.multiply(mat1, mat2)\r\n",
        "\r\n",
        "print(\"\")\r\n",
        "\r\n",
        "print('Matrix multiplication: ')\r\n",
        "print('Method 1: ')\r\n",
        "print(mat_mul_1)\r\n",
        "\r\n",
        "print('Method 2: ')\r\n",
        "print(mat_mul_2)"
      ],
      "execution_count": null,
      "outputs": []
    },
    {
      "cell_type": "markdown",
      "metadata": {
        "id": "_YU9MSjvS4TQ"
      },
      "source": [
        "####QUESTION####\r\n",
        "**Why did we get different matrix multiplication values? Are the two functions different? Double click this tab to write the answer.**\r\n",
        "\r\n",
        "Your answer:\r\n"
      ]
    },
    {
      "cell_type": "markdown",
      "metadata": {
        "id": "vu1duAAZVeHR"
      },
      "source": [
        "Try the next bit on your own to work with NumPy matrix functions."
      ]
    },
    {
      "cell_type": "code",
      "metadata": {
        "id": "iZx9FZH4Q1nk"
      },
      "source": [
        "#Matrix addition\r\n",
        "\r\n",
        "### START CODE HERE ###\r\n",
        "mat_add = numpy.\r\n",
        "### END CODE HERE ###\r\n",
        "\r\n",
        "print('Addition: ')\r\n",
        "print(mat_add)"
      ],
      "execution_count": null,
      "outputs": []
    },
    {
      "cell_type": "code",
      "metadata": {
        "id": "WeNJxKyVYkaE"
      },
      "source": [
        "#Matrix Subtraction\r\n",
        "\r\n",
        "### START CODE HERE ###\r\n",
        "mat_sub = numpy.\r\n",
        "### END CODE HERE ###\r\n",
        "\r\n",
        "print('Subtraction: ')\r\n",
        "print(mat_sub)"
      ],
      "execution_count": null,
      "outputs": []
    },
    {
      "cell_type": "code",
      "metadata": {
        "id": "Wp2pcrQqYmJo"
      },
      "source": [
        "#Matrix multiplication\r\n",
        "\r\n",
        "### START CODE HERE ###\r\n",
        "mat_mul_1 = numpy.\r\n",
        "### END CODE HERE ###\r\n",
        "\r\n",
        "print('Matrix multiplication: ')\r\n",
        "print(mat_mul_1)\r\n",
        "\r\n",
        "#Matrix Elementwise Multiplication\r\n",
        "\r\n",
        "### START CODE HERE ###\r\n",
        "mat_mul_2 = numpy.\r\n",
        "### END CODE HERE ###\r\n",
        "\r\n",
        "print('Element wise multiplication: ')\r\n",
        "print(mat_mul_2)"
      ],
      "execution_count": null,
      "outputs": []
    },
    {
      "cell_type": "markdown",
      "metadata": {
        "id": "NWtSegq_aXYr"
      },
      "source": [
        "General matrix operations such as finding the determinant, inverse, transpose, and reshaping the matrix shape."
      ]
    },
    {
      "cell_type": "markdown",
      "metadata": {
        "id": "FsVqZC34ZgFG"
      },
      "source": [
        "Let's redefine a non-square matrix."
      ]
    },
    {
      "cell_type": "code",
      "metadata": {
        "id": "1UmQ0Pxvae4v"
      },
      "source": [
        "mat_notsquare = numpy.matrix([[1, 2, 3], [4, 5, 6]])"
      ],
      "execution_count": null,
      "outputs": []
    },
    {
      "cell_type": "code",
      "metadata": {
        "colab": {
          "base_uri": "https://localhost:8080/"
        },
        "id": "gzUyTWh4ajnK",
        "outputId": "b69034a2-7e51-4e84-f5ec-0bd08d631d16"
      },
      "source": [
        "#Print the shape of 'mat_notsquare'\r\n",
        "print(mat_notsquare)\r\n",
        "print(numpy.shape(mat_notsquare))"
      ],
      "execution_count": null,
      "outputs": [
        {
          "output_type": "stream",
          "text": [
            "[[1 2 3]\n",
            " [4 5 6]]\n",
            "(2, 3)\n"
          ],
          "name": "stdout"
        }
      ]
    },
    {
      "cell_type": "code",
      "metadata": {
        "colab": {
          "base_uri": "https://localhost:8080/"
        },
        "id": "eZz0EBCxbZsf",
        "outputId": "932d16fe-f6e3-47fc-b64b-73bd363b6695"
      },
      "source": [
        "#Let's reshape the matrix\r\n",
        "print(numpy.reshape(mat_notsquare, (3, 2)))"
      ],
      "execution_count": null,
      "outputs": [
        {
          "output_type": "stream",
          "text": [
            "[[1 2]\n",
            " [3 4]\n",
            " [5 6]]\n"
          ],
          "name": "stdout"
        }
      ]
    },
    {
      "cell_type": "code",
      "metadata": {
        "colab": {
          "base_uri": "https://localhost:8080/"
        },
        "id": "eeh5Dy3Sb17Z",
        "outputId": "06e6cc01-9eac-4571-ac40-a0aaf637daef"
      },
      "source": [
        "#Now, let's find the determinant of a matrix\r\n",
        "#Define a square matrix\r\n",
        "mat_square = numpy.matrix([[1, 2, 3], [6, 5, 10], [7, 8, 9]])\r\n",
        "determinant = numpy.linalg.det(mat_square)\r\n",
        "\r\n",
        "print(determinant)"
      ],
      "execution_count": null,
      "outputs": [
        {
          "output_type": "stream",
          "text": [
            "36.0\n"
          ],
          "name": "stdout"
        }
      ]
    },
    {
      "cell_type": "markdown",
      "metadata": {
        "id": "ObcWZ7S9cf6_"
      },
      "source": [
        "####Question####\r\n",
        "**Try to find the inverse of the matrix of the matrix by referring to this documentation: [NumPy matrix inverse](https://numpy.org/doc/stable/reference/generated/numpy.linalg.inv.html).**\r\n",
        "\r\n",
        "Hint: replace 'det' by 'inv'. But, do check the documentation listed here."
      ]
    },
    {
      "cell_type": "code",
      "metadata": {
        "id": "AvUml7J1cdsX"
      },
      "source": [
        "mat_inv = numpy.\r\n",
        "print(mat_inv)"
      ],
      "execution_count": null,
      "outputs": []
    },
    {
      "cell_type": "markdown",
      "metadata": {
        "id": "6z_KzkCZUGNY"
      },
      "source": [
        "###Concept of NumPy Broadcasting####\r\n",
        "A very important concept to understand in numpy is \"broadcasting\". It is very useful for performing mathematical operations between arrays of different shapes."
      ]
    },
    {
      "cell_type": "code",
      "metadata": {
        "id": "Kix7tdHMSopn"
      },
      "source": [
        "arr = numpy.array([1, 2, 3])\r\n",
        "mat = numpy.matrix([[1, 2, 3], [4, 5, 6], [7, 8, 9]])"
      ],
      "execution_count": null,
      "outputs": []
    },
    {
      "cell_type": "code",
      "metadata": {
        "colab": {
          "base_uri": "https://localhost:8080/"
        },
        "id": "FixAAJ9ed179",
        "outputId": "17587e8f-7f7a-48bc-e32a-0d22016cedd6"
      },
      "source": [
        "print(\"Shape of arr:\")\r\n",
        "print(numpy.shape(arr))\r\n",
        "\r\n",
        "print(\"Array: \")\r\n",
        "print(arr)"
      ],
      "execution_count": null,
      "outputs": [
        {
          "output_type": "stream",
          "text": [
            "Shape of arr:\n",
            "(3,)\n",
            "Array: \n",
            "[1 2 3]\n"
          ],
          "name": "stdout"
        }
      ]
    },
    {
      "cell_type": "code",
      "metadata": {
        "colab": {
          "base_uri": "https://localhost:8080/"
        },
        "id": "wWHZWMlBd3KE",
        "outputId": "2a0fdc52-4791-4112-9c77-81a66e7f4da0"
      },
      "source": [
        "print(\"Shape of mat:\")\r\n",
        "print(numpy.shape(mat))\r\n",
        "\r\n",
        "print(\"Matrix: \")\r\n",
        "print(mat)"
      ],
      "execution_count": null,
      "outputs": [
        {
          "output_type": "stream",
          "text": [
            "Shape of mat:\n",
            "(3, 3)\n",
            "Matrix: \n",
            "[[1 2 3]\n",
            " [4 5 6]\n",
            " [7 8 9]]\n"
          ],
          "name": "stdout"
        }
      ]
    },
    {
      "cell_type": "markdown",
      "metadata": {
        "id": "KWhMHyxZYxQ6"
      },
      "source": [
        "Try running the next code and see what happens."
      ]
    },
    {
      "cell_type": "code",
      "metadata": {
        "colab": {
          "base_uri": "https://localhost:8080/"
        },
        "id": "LwkPLJ6GZdBh",
        "outputId": "3ff570d4-8db4-41bf-e419-409fea4a33e1"
      },
      "source": [
        "subtraction = mat - arr\r\n",
        "\r\n",
        "print(subtraction)"
      ],
      "execution_count": null,
      "outputs": [
        {
          "output_type": "stream",
          "text": [
            "[[0 0 0]\n",
            " [3 3 3]\n",
            " [6 6 6]]\n"
          ],
          "name": "stdout"
        }
      ]
    },
    {
      "cell_type": "markdown",
      "metadata": {
        "id": "2zfzv6LCZzG4"
      },
      "source": [
        "####QUESTION####\r\n",
        "\r\n",
        "**Why did the function return a value even when we are subtracting a (3, 1) array from (3, 3) matrix? Refer to this [broadcasting documentation](http://docs.scipy.org/doc/numpy/user/basics.broadcasting.html)**\r\n",
        "\r\n",
        "YOUR ANSWER:\r\n"
      ]
    },
    {
      "cell_type": "markdown",
      "metadata": {
        "id": "7BWzJv3qexL7"
      },
      "source": [
        "####PART 2: Loops####"
      ]
    },
    {
      "cell_type": "markdown",
      "metadata": {
        "id": "8bRvVoZrenYS"
      },
      "source": [
        "Great job, completing the first half! Now, we will move onto defining for-loop and while-loop."
      ]
    },
    {
      "cell_type": "markdown",
      "metadata": {
        "id": "oOoxk4g8fDu3"
      },
      "source": [
        "#While Loop\r\n",
        "\r\n",
        "Let's print out 10 numbers from 1 to 10."
      ]
    },
    {
      "cell_type": "code",
      "metadata": {
        "colab": {
          "base_uri": "https://localhost:8080/"
        },
        "id": "MyicYKmDfDQ-",
        "outputId": "8af867e7-7b03-4154-90e7-5bfb8c41bd4a"
      },
      "source": [
        "#Basic structure of while loop\r\n",
        "num = 1\r\n",
        "while num <= 10:\r\n",
        "  print(num)\r\n",
        "  num = num + 1\r\n",
        "\r\n",
        "print('Notice the indentation after the first loop statement.\\nPython thinks the commands are inside the loop until the indentation ends.')"
      ],
      "execution_count": null,
      "outputs": [
        {
          "output_type": "stream",
          "text": [
            "1\n",
            "2\n",
            "3\n",
            "4\n",
            "5\n",
            "6\n",
            "7\n",
            "8\n",
            "9\n",
            "10\n",
            "Notice the indentation after the first loop statement.\n",
            "Python thinks the commands are inside the loop until the indentation ends.\n"
          ],
          "name": "stdout"
        }
      ]
    },
    {
      "cell_type": "markdown",
      "metadata": {
        "id": "I-98qzQnf3n7"
      },
      "source": [
        "#For Loop\r\n",
        "\r\n",
        "Let's try doing the same but with a for-loop. The range() function will come in handy while we do this. Run the next cell."
      ]
    },
    {
      "cell_type": "code",
      "metadata": {
        "colab": {
          "base_uri": "https://localhost:8080/"
        },
        "id": "ouPdFAkSewS2",
        "outputId": "bb50e0a0-59fa-4257-d0a4-bed8b60230b9"
      },
      "source": [
        "#range() generates an array of range 0-9. We will store this value in the variable range_num.\r\n",
        "range_num = range(10)\r\n",
        "\r\n",
        "#To access this value we will use a for-loop\r\n",
        "for num in range_num:\r\n",
        "  print(num)\r\n",
        "\r\n",
        "print(\"This printed off 0-9 because it generates integers from 0-9.\")"
      ],
      "execution_count": null,
      "outputs": [
        {
          "output_type": "stream",
          "text": [
            "0\n",
            "1\n",
            "2\n",
            "3\n",
            "4\n",
            "5\n",
            "6\n",
            "7\n",
            "8\n",
            "9\n"
          ],
          "name": "stdout"
        }
      ]
    },
    {
      "cell_type": "markdown",
      "metadata": {
        "id": "FCfzunRyhpKV"
      },
      "source": [
        "**Important Note**\r\n",
        "The array indexing in Python starts out at 0. Demonstration below.\r\n"
      ]
    },
    {
      "cell_type": "code",
      "metadata": {
        "colab": {
          "base_uri": "https://localhost:8080/"
        },
        "id": "Xy-h39_KimY1",
        "outputId": "b6bf0cf6-b57b-4172-c99f-395d08e47946"
      },
      "source": [
        "arr = numpy.random.rand(3)\r\n",
        "print('The array is:', arr)\r\n",
        "\r\n",
        "print('First element of arr is arr[0]:', arr[0])\r\n",
        "print('Second element of arr is arr[1:]', arr[1])\r\n",
        "print('And so on...')"
      ],
      "execution_count": null,
      "outputs": [
        {
          "output_type": "stream",
          "text": [
            "The array is: [0.47950357 0.87668169 0.20227937]\n",
            "First element of arr is arr[0]: 0.47950356740096167\n",
            "Second element of arr is arr[1:] 0.8766816879876589\n",
            "And so on...\n"
          ],
          "name": "stdout"
        }
      ]
    },
    {
      "cell_type": "markdown",
      "metadata": {
        "id": "TjRu_3X5jLH8"
      },
      "source": [
        "Try implementing your own while and for-loop to print even numbers from 0-20."
      ]
    },
    {
      "cell_type": "markdown",
      "metadata": {
        "id": "BD06N812jYi4"
      },
      "source": [
        "While loop"
      ]
    },
    {
      "cell_type": "code",
      "metadata": {
        "colab": {
          "base_uri": "https://localhost:8080/"
        },
        "id": "aB__cfBFjRpO",
        "outputId": "a19c0037-ba94-454c-9511-3ad46747db4b"
      },
      "source": [
        "### START CODE HERE ###\r\n",
        "\r\n",
        "### END CODE HERE ###"
      ],
      "execution_count": null,
      "outputs": [
        {
          "output_type": "stream",
          "text": [
            "0\n",
            "2\n",
            "4\n",
            "6\n",
            "8\n",
            "10\n",
            "12\n",
            "14\n",
            "16\n",
            "18\n",
            "20\n"
          ],
          "name": "stdout"
        }
      ]
    },
    {
      "cell_type": "markdown",
      "metadata": {
        "id": "DLyk56LHjZxb"
      },
      "source": [
        "For-loop\r\n",
        "\r\n",
        "Hint: You will have to use if command to see if the number is divisible by 2 or not. Use the '%' command to find the remainder. If remainder is 0, then even."
      ]
    },
    {
      "cell_type": "code",
      "metadata": {
        "colab": {
          "base_uri": "https://localhost:8080/"
        },
        "id": "tReSgTltjbWO",
        "outputId": "3691361a-0520-4900-f9ea-d5aa458dae5c"
      },
      "source": [
        "### START CODE HERE ###\r\n",
        "\r\n",
        "### END CODE HERE ###"
      ],
      "execution_count": null,
      "outputs": [
        {
          "output_type": "stream",
          "text": [
            "0\n",
            "2\n",
            "4\n",
            "6\n",
            "8\n",
            "10\n",
            "12\n",
            "14\n",
            "16\n",
            "18\n",
            "20\n"
          ],
          "name": "stdout"
        }
      ]
    },
    {
      "cell_type": "markdown",
      "metadata": {
        "id": "JPKXdxUDjfYG"
      },
      "source": [
        "Expected output:\r\n",
        "0\r\n",
        "2\r\n",
        "4\r\n",
        "6\r\n",
        "8\r\n",
        "10\r\n",
        "12\r\n",
        "14\r\n",
        "16\r\n",
        "18\r\n",
        "20\r\n",
        "\r\n"
      ]
    }
  ]
}