{
  "nbformat": 4,
  "nbformat_minor": 0,
  "metadata": {
    "colab": {
      "name": "Lab 1: NumPy and Loops Tutorial",
      "provenance": [],
      "collapsed_sections": []
    },
    "kernelspec": {
      "name": "python3",
      "display_name": "Python 3"
    },
    "accelerator": "GPU"
  },
  "cells": [
    {
      "cell_type": "markdown",
      "metadata": {
        "id": "HFDuVuwwM9tL"
      },
      "source": [
        "Welcome to your first Python Assignment! In this lab we will get our hands dirty with Python and the NumPy library. We will also work with loops and indexing. You will need a Google Account to save your assignments.\r\n",
        "\r\n",
        "\r\n",
        "Please make a copy of this file to save your progress. Try pressing CTRL (or CMD) + S and it should ask you to save this file in Google Drive. The files will be autmatically saved under Colab Notebooks folder in your Google Drive.\r\n",
        "\r\n",
        "**Instructions:**\r\n",
        "*   You only need to write code between the **### START CODE HERE ###** and **### END CODE HERE ###** comments. After writing your code, you can run the cell by either pressing \"SHIFT\"+\"ENTER\" or by clicking on \"Run Cell\" (denoted by a play symbol) in the left side of the notebook. \r\n",
        "\r\n",
        "**Learning Objectives**\r\n",
        "* Use GoogleColab notebook for future assignments\r\n",
        "*Use NumPy functions and its matrix/vector operations`\r\n",
        "\r\n",
        "\r\n",
        "\r\n"
      ]
    },
    {
      "cell_type": "markdown",
      "metadata": {
        "id": "OEJQXuM4N98b"
      },
      "source": [
        "## About GoogleColab ##\r\n",
        "\r\n",
        "GoogleColab is an interactive coding environment embedded in a webpage and will use it for future Machine Learning Projects."
      ]
    },
    {
      "cell_type": "markdown",
      "metadata": {
        "id": "B1ZkB5hnORSD"
      },
      "source": [
        "**Exercise**: Set test to `\"Hello World\"` in the cell below to print \"Hello World\" and run the two cells below."
      ]
    },
    {
      "cell_type": "code",
      "metadata": {
        "id": "Vd6SmLg8MfLF"
      },
      "source": [
        "### START CODE HERE ###\r\n",
        "test = \"\"\r\n",
        "### END CODE HERE ###"
      ],
      "execution_count": 1,
      "outputs": []
    },
    {
      "cell_type": "code",
      "metadata": {
        "id": "8fk0EBLEOb8h",
        "colab": {
          "base_uri": "https://localhost:8080/"
        },
        "outputId": "2cd5eaef-6987-4b1d-85fd-30dd665a300b"
      },
      "source": [
        "print (\"test: \" + test)"
      ],
      "execution_count": 2,
      "outputs": [
        {
          "output_type": "stream",
          "text": [
            "test: \n"
          ],
          "name": "stdout"
        }
      ]
    },
    {
      "cell_type": "markdown",
      "metadata": {
        "id": "-LQwYJhUOffL"
      },
      "source": [
        "**Expected output**:\r\n",
        "test: Hello World"
      ]
    },
    {
      "cell_type": "markdown",
      "metadata": {
        "id": "9BHml2ZQOl0r"
      },
      "source": [
        "**What you need to remember**:\r\n",
        "* Run your cells using SHIFT+ENTER (or \"Run the focused cell\")\r\n",
        "* Write code in the designated areas\r\n",
        "* Do not modify the code outside of the designated areas"
      ]
    },
    {
      "cell_type": "markdown",
      "metadata": {
        "id": "sd6-S28QeefA"
      },
      "source": [
        "#PART 1: Working with Numpy\r\n",
        "\r\n",
        "The syntax for all operations can be found on [NumPy.org](https://numpy.org/doc/stable/reference/generated/numpy.linalg.inv.html), or a google search."
      ]
    },
    {
      "cell_type": "code",
      "metadata": {
        "id": "bml1qVxkOlSE"
      },
      "source": [
        "#Import NumPy library\r\n",
        "import numpy\r\n",
        "\r\n",
        "#It could also be imported as import numpy as np for convenience"
      ],
      "execution_count": 3,
      "outputs": []
    },
    {
      "cell_type": "code",
      "metadata": {
        "id": "kr6TyMAjPG2Y"
      },
      "source": [
        "#Define an row-vector/array\r\n",
        "arr1 = numpy.array([1, 2, 3])\r\n",
        "arr2 = numpy.array([3, 1, 2])\r\n",
        "\r\n",
        "#Define a matrix\r\n",
        "mat1 = numpy.matrix([[1, 2, 3], [4, 5, 6], [7, 8, 9]])\r\n",
        "mat2 = numpy.matrix([[5, 7, 6], [3, 1, 2], [4, 8, 9]])"
      ],
      "execution_count": 4,
      "outputs": []
    },
    {
      "cell_type": "code",
      "metadata": {
        "id": "qQUt29WQPPqD",
        "colab": {
          "base_uri": "https://localhost:8080/"
        },
        "outputId": "75bb895d-6550-4c12-a3b4-54b92125af07"
      },
      "source": [
        "print('Vectors = ')\r\n",
        "print(arr1)\r\n",
        "print(arr2)\r\n",
        "\r\n",
        "print('matrix 1 = ')\r\n",
        "print(mat1)\r\n",
        "\r\n",
        "print('matrix = ')\r\n",
        "print(mat2)"
      ],
      "execution_count": 5,
      "outputs": [
        {
          "output_type": "stream",
          "text": [
            "Vectors = \n",
            "[1 2 3]\n",
            "[3 1 2]\n",
            "matrix 1 = \n",
            "[[1 2 3]\n",
            " [4 5 6]\n",
            " [7 8 9]]\n",
            "matrix = \n",
            "[[5 7 6]\n",
            " [3 1 2]\n",
            " [4 8 9]]\n"
          ],
          "name": "stdout"
        }
      ]
    },
    {
      "cell_type": "markdown",
      "metadata": {
        "id": "7rpiijwdQvxH"
      },
      "source": [
        "Let's now perform some matrix operations."
      ]
    },
    {
      "cell_type": "code",
      "metadata": {
        "id": "x7oIF5ZcVg5h",
        "colab": {
          "base_uri": "https://localhost:8080/"
        },
        "outputId": "a8d6400b-4e0d-4918-b8fa-57920181e675"
      },
      "source": [
        "#Matrix addition\r\n",
        "mat_add = mat1 + mat2\r\n",
        "\r\n",
        "print('Addition: ')\r\n",
        "print(mat_add)"
      ],
      "execution_count": 6,
      "outputs": [
        {
          "output_type": "stream",
          "text": [
            "Addition: \n",
            "[[ 6  9  9]\n",
            " [ 7  6  8]\n",
            " [11 16 18]]\n"
          ],
          "name": "stdout"
        }
      ]
    },
    {
      "cell_type": "code",
      "metadata": {
        "id": "QLiYftXkYd2C",
        "colab": {
          "base_uri": "https://localhost:8080/"
        },
        "outputId": "c99b1df0-19bd-4b4d-82f4-ef1201c140ed"
      },
      "source": [
        "#Matrix Subtraction\r\n",
        "mat_sub = mat1 - mat2\r\n",
        "\r\n",
        "print('Subtraction: ')\r\n",
        "print(mat_sub)"
      ],
      "execution_count": 7,
      "outputs": [
        {
          "output_type": "stream",
          "text": [
            "Subtraction: \n",
            "[[-4 -5 -3]\n",
            " [ 1  4  4]\n",
            " [ 3  0  0]]\n"
          ],
          "name": "stdout"
        }
      ]
    },
    {
      "cell_type": "code",
      "metadata": {
        "id": "aDwzislOYf85",
        "colab": {
          "base_uri": "https://localhost:8080/"
        },
        "outputId": "6ab29bf1-c5bf-43e8-8430-3c2b4def8a02"
      },
      "source": [
        "#Matrix multiplication\r\n",
        "mat_mul_1 = numpy.matmul(mat1, mat2) #or mat1*mat2\r\n",
        "mat_mul_2 = numpy.multiply(mat1, mat2)\r\n",
        "\r\n",
        "print(\"\")\r\n",
        "\r\n",
        "print('Matrix multiplication: ')\r\n",
        "print('Method 1: ')\r\n",
        "print(mat_mul_1)\r\n",
        "\r\n",
        "print('Method 2: ')\r\n",
        "print(mat_mul_2)"
      ],
      "execution_count": 8,
      "outputs": [
        {
          "output_type": "stream",
          "text": [
            "\n",
            "Matrix multiplication: \n",
            "Method 1: \n",
            "[[ 23  33  37]\n",
            " [ 59  81  88]\n",
            " [ 95 129 139]]\n",
            "Method 2: \n",
            "[[ 5 14 18]\n",
            " [12  5 12]\n",
            " [28 64 81]]\n"
          ],
          "name": "stdout"
        }
      ]
    },
    {
      "cell_type": "markdown",
      "metadata": {
        "id": "_YU9MSjvS4TQ"
      },
      "source": [
        "####QUESTION####\r\n",
        "**Why did we get different matrix multiplication values? Are the two functions different? Double click this tab to write the answer.**\r\n",
        "\r\n",
        "Your answer:\r\n"
      ]
    },
    {
      "cell_type": "markdown",
      "metadata": {
        "id": "TN3KDSE0UnmV"
      },
      "source": [
        "Try solving the next bit of code using the above as reference. Define one array and two matrices."
      ]
    },
    {
      "cell_type": "code",
      "metadata": {
        "id": "A8LQDFDYUy6Y",
        "colab": {
          "base_uri": "https://localhost:8080/",
          "height": 134
        },
        "outputId": "87710d1b-7558-404d-86a0-e08c157fa994"
      },
      "source": [
        "### START CODE HERE ###\r\n",
        "arr1 = \r\n",
        "\r\n",
        "mat1 = \r\n",
        "mat2 = \r\n",
        "### END CODE HERE ###"
      ],
      "execution_count": 9,
      "outputs": [
        {
          "output_type": "error",
          "ename": "SyntaxError",
          "evalue": "ignored",
          "traceback": [
            "\u001b[0;36m  File \u001b[0;32m\"<ipython-input-9-13dc958d90c8>\"\u001b[0;36m, line \u001b[0;32m2\u001b[0m\n\u001b[0;31m    arr1 =\u001b[0m\n\u001b[0m           ^\u001b[0m\n\u001b[0;31mSyntaxError\u001b[0m\u001b[0;31m:\u001b[0m invalid syntax\n"
          ]
        }
      ]
    },
    {
      "cell_type": "code",
      "metadata": {
        "id": "74aSfqnmVrJj"
      },
      "source": [
        "print('Array = ')\r\n",
        "print(arr1)\r\n",
        "\r\n",
        "print('matrix 1 = ')\r\n",
        "print(mat1)\r\n",
        "\r\n",
        "print('matrix = ')\r\n",
        "print(mat2)"
      ],
      "execution_count": null,
      "outputs": []
    },
    {
      "cell_type": "markdown",
      "metadata": {
        "id": "vu1duAAZVeHR"
      },
      "source": [
        "Try the next bit on your own to work with NumPy matrix functions."
      ]
    },
    {
      "cell_type": "code",
      "metadata": {
        "id": "iZx9FZH4Q1nk"
      },
      "source": [
        "#Matrix addition\r\n",
        "\r\n",
        "### START CODE HERE ###\r\n",
        "mat_add = \r\n",
        "### END CODE HERE ###\r\n",
        "\r\n",
        "print('Addition: ')\r\n",
        "print(mat_add)"
      ],
      "execution_count": null,
      "outputs": []
    },
    {
      "cell_type": "code",
      "metadata": {
        "id": "WeNJxKyVYkaE"
      },
      "source": [
        "#Matrix Subtraction\r\n",
        "\r\n",
        "### START CODE HERE ###\r\n",
        "mat_sub = \r\n",
        "### END CODE HERE ###\r\n",
        "\r\n",
        "print('Subtraction: ')\r\n",
        "print(mat_sub)"
      ],
      "execution_count": null,
      "outputs": []
    },
    {
      "cell_type": "code",
      "metadata": {
        "id": "Wp2pcrQqYmJo"
      },
      "source": [
        "#Matrix multiplication\r\n",
        "\r\n",
        "### START CODE HERE ###\r\n",
        "mat_mul_1 = numpy.\r\n",
        "### END CODE HERE ###\r\n",
        "\r\n",
        "print('Matrix multiplication: ')\r\n",
        "print(mat_mul_1)\r\n",
        "\r\n",
        "#Matrix Elementwise Multiplication\r\n",
        "\r\n",
        "### START CODE HERE ###\r\n",
        "mat_mul_2 = numpy.\r\n",
        "### END CODE HERE ###\r\n",
        "\r\n",
        "print('Element wise multiplication: ')\r\n",
        "print(mat_mul_2)"
      ],
      "execution_count": null,
      "outputs": []
    },
    {
      "cell_type": "markdown",
      "metadata": {
        "id": "NWtSegq_aXYr"
      },
      "source": [
        "General matrix operations such as finding the determinant, inverse, transpose, and reshaping the matrix shape."
      ]
    },
    {
      "cell_type": "markdown",
      "metadata": {
        "id": "FsVqZC34ZgFG"
      },
      "source": [
        "Let's redefine a non-square matrix."
      ]
    },
    {
      "cell_type": "code",
      "metadata": {
        "id": "1UmQ0Pxvae4v"
      },
      "source": [
        "mat_notsquare = numpy.matrix([[1, 2, 3], [4, 5, 6]])"
      ],
      "execution_count": null,
      "outputs": []
    },
    {
      "cell_type": "code",
      "metadata": {
        "id": "gzUyTWh4ajnK"
      },
      "source": [
        "#Print the shape of 'mat_notsquare'\r\n",
        "print(mat_notsquare)\r\n",
        "print(numpy.shape(mat_notsquare))"
      ],
      "execution_count": null,
      "outputs": []
    },
    {
      "cell_type": "code",
      "metadata": {
        "id": "eZz0EBCxbZsf"
      },
      "source": [
        "#Let's reshape the matrix\r\n",
        "#Reshaping it to 1x6 vector\r\n",
        "mat_reshaped = numpy.reshape(mat_notsquare, (1, 6))\r\n",
        "print(mat_reshaped)\r\n",
        "print(numpy.shape(mat_reshaped))\r\n",
        "\r\n",
        "print(\"\")\r\n",
        "\r\n",
        "#Reshaping it to 3x2 matrix\r\n",
        "mat_reshaped = numpy.reshape(mat_notsquare, (3, 2))\r\n",
        "print(mat_reshaped)\r\n",
        "print(numpy.shape(mat_reshaped))"
      ],
      "execution_count": null,
      "outputs": []
    },
    {
      "cell_type": "code",
      "metadata": {
        "id": "tBipdx7WbdZ-"
      },
      "source": [
        "#Finding the transpose of a matrix\r\n",
        "transpose_mat = numpy.transpose(mat_notsquare)\r\n",
        "print(transpose_mat)\r\n",
        "\r\n",
        "#Transpose it again\r\n",
        "print(\"Second time transposition gives us the original matrix\")\r\n",
        "transpose_mat = numpy.transpose(transpose_mat)\r\n",
        "print(transpose_mat)"
      ],
      "execution_count": null,
      "outputs": []
    },
    {
      "cell_type": "code",
      "metadata": {
        "id": "eeh5Dy3Sb17Z"
      },
      "source": [
        "#Now, let's find the determinant of a matrix\r\n",
        "#Define a square matrix\r\n",
        "mat_square = numpy.matrix([[1, 2, 3], [6, 5, 10], [7, 8, 9]])\r\n",
        "determinant = numpy.linalg.det(mat_square)\r\n",
        "\r\n",
        "print(determinant)"
      ],
      "execution_count": null,
      "outputs": []
    },
    {
      "cell_type": "markdown",
      "metadata": {
        "id": "ObcWZ7S9cf6_"
      },
      "source": [
        "####Question####\r\n",
        "**Try to find the inverse of the matrix of the matrix by referring to this documentation: [NumPy matrix inverse](https://numpy.org/doc/stable/reference/generated/numpy.linalg.inv.html).**\r\n",
        "\r\n",
        "Hint: replace 'det' by 'inv'. But, do check the documentation listed here."
      ]
    },
    {
      "cell_type": "code",
      "metadata": {
        "id": "AvUml7J1cdsX"
      },
      "source": [
        "mat_inv = numpy.\r\n",
        "print(mat_inv)"
      ],
      "execution_count": null,
      "outputs": []
    },
    {
      "cell_type": "markdown",
      "metadata": {
        "id": "6z_KzkCZUGNY"
      },
      "source": [
        "**Concept of NumPy Broadcasting**\r\n",
        "\r\n",
        "A very important concept to understand in numpy is \"broadcasting\". It is very useful for performing mathematical operations between arrays of different shapes."
      ]
    },
    {
      "cell_type": "code",
      "metadata": {
        "id": "Kix7tdHMSopn"
      },
      "source": [
        "arr = numpy.array([1, 2, 3])\r\n",
        "mat = numpy.matrix([[1, 2, 3], [4, 5, 6], [7, 8, 9]])"
      ],
      "execution_count": null,
      "outputs": []
    },
    {
      "cell_type": "code",
      "metadata": {
        "id": "FixAAJ9ed179"
      },
      "source": [
        "print(\"Shape of arr:\")\r\n",
        "print(numpy.shape(arr))\r\n",
        "\r\n",
        "print(\"Array: \")\r\n",
        "print(arr)"
      ],
      "execution_count": null,
      "outputs": []
    },
    {
      "cell_type": "code",
      "metadata": {
        "id": "wWHZWMlBd3KE"
      },
      "source": [
        "print(\"Shape of mat:\")\r\n",
        "print(numpy.shape(mat))\r\n",
        "\r\n",
        "print(\"Matrix: \")\r\n",
        "print(mat)"
      ],
      "execution_count": null,
      "outputs": []
    },
    {
      "cell_type": "markdown",
      "metadata": {
        "id": "KWhMHyxZYxQ6"
      },
      "source": [
        "Try running the next code and see what happens."
      ]
    },
    {
      "cell_type": "code",
      "metadata": {
        "id": "LwkPLJ6GZdBh"
      },
      "source": [
        "subtraction = mat - arr\r\n",
        "\r\n",
        "print(subtraction)"
      ],
      "execution_count": null,
      "outputs": []
    },
    {
      "cell_type": "markdown",
      "metadata": {
        "id": "2zfzv6LCZzG4"
      },
      "source": [
        "####QUESTION####\r\n",
        "\r\n",
        "**Unusual? A 3x1 vector subtracted from 3x3 matrix? How did the function work to return a value even when we are subtracting a (3, 1) array from (3, 3) matrix? Think about it and answer the question.**\r\n",
        "\r\n",
        "\r\n",
        "Hint:\r\n",
        "Refer to this [broadcasting documentation](http://docs.scipy.org/doc/numpy/user/basics.broadcasting.html).\r\n",
        "\r\n",
        "Also, this 3 minute video is great to learn about this.\r\n",
        "https://www.youtube.com/watch?v=J-SjUu890hw\r\n",
        "\r\n",
        "YOUR ANSWER:\r\n"
      ]
    },
    {
      "cell_type": "markdown",
      "metadata": {
        "id": "7BWzJv3qexL7"
      },
      "source": [
        "#PART 2: Loops"
      ]
    },
    {
      "cell_type": "markdown",
      "metadata": {
        "id": "8bRvVoZrenYS"
      },
      "source": [
        "Great job, completing the first half! Now, we will move onto defining for-loop and while-loop."
      ]
    },
    {
      "cell_type": "markdown",
      "metadata": {
        "id": "oOoxk4g8fDu3"
      },
      "source": [
        "**While Loop**\r\n",
        "\r\n",
        "Let's print out 10 numbers from 1 to 10."
      ]
    },
    {
      "cell_type": "code",
      "metadata": {
        "id": "MyicYKmDfDQ-"
      },
      "source": [
        "#Basic structure of while loop\r\n",
        "num = 1\r\n",
        "while num <= 10:\r\n",
        "  print(num)\r\n",
        "  num = num + 1\r\n",
        "\r\n",
        "print('!!!Notice the indentation after the first loop statement in the code.\\nPython thinks the commands are inside the loop until the indentation ends.')\r\n",
        "print(\"No need for 'end' statement\")"
      ],
      "execution_count": null,
      "outputs": []
    },
    {
      "cell_type": "markdown",
      "metadata": {
        "id": "I-98qzQnf3n7"
      },
      "source": [
        "**For Loop**\r\n",
        "\r\n",
        "Let's try doing the same but with a for-loop. The range() function will come in handy while we do this. Run the next cell."
      ]
    },
    {
      "cell_type": "code",
      "metadata": {
        "id": "ouPdFAkSewS2"
      },
      "source": [
        "#range(n) generates an array of range 0->(n-1). We will store this value in the variable range_num.\r\n",
        "range_num = range(10)\r\n",
        "\r\n",
        "#To access this value we will use a for-loop\r\n",
        "for num in range_num:\r\n",
        "  print(num)\r\n",
        "\r\n",
        "print(\"This printed off 0-9 because it generates integers from 0-9.\")"
      ],
      "execution_count": null,
      "outputs": []
    },
    {
      "cell_type": "markdown",
      "metadata": {
        "id": "FCfzunRyhpKV"
      },
      "source": [
        "**Important Note**\r\n",
        "The array indexing in Python starts out at 0. Demonstration below.\r\n"
      ]
    },
    {
      "cell_type": "code",
      "metadata": {
        "id": "Xy-h39_KimY1"
      },
      "source": [
        "arr = numpy.random.rand(3)\r\n",
        "print('The array is:', arr)\r\n",
        "\r\n",
        "print('First element of arr is arr[0]:', arr[0])\r\n",
        "print('Second element of arr is arr[1:]', arr[1])\r\n",
        "print('And so on...')"
      ],
      "execution_count": null,
      "outputs": []
    },
    {
      "cell_type": "markdown",
      "metadata": {
        "id": "TjRu_3X5jLH8"
      },
      "source": [
        "Try implementing your own while and for-loop to print even numbers from 0-20."
      ]
    },
    {
      "cell_type": "markdown",
      "metadata": {
        "id": "BD06N812jYi4"
      },
      "source": [
        "While loop"
      ]
    },
    {
      "cell_type": "code",
      "metadata": {
        "id": "aB__cfBFjRpO"
      },
      "source": [
        "### START CODE HERE ###\r\n",
        "\r\n",
        "### END CODE HERE ###"
      ],
      "execution_count": null,
      "outputs": []
    },
    {
      "cell_type": "markdown",
      "metadata": {
        "id": "DLyk56LHjZxb"
      },
      "source": [
        "For-loop\r\n",
        "\r\n",
        "Hint: You will have to use 'if' command to see if the number is divisible by 2 or not. Use the '%' command to find the remainder. If remainder is 0, then even.\r\n",
        "\r\n",
        "Structure:\r\n",
        "\r\n",
        "for num in range(your_num):\r\n",
        "    if num % 2 == 0\r\n",
        "        print(num)\r\n"
      ]
    },
    {
      "cell_type": "code",
      "metadata": {
        "id": "tReSgTltjbWO"
      },
      "source": [
        "### START CODE HERE ###\r\n",
        "\r\n",
        "### END CODE HERE ###"
      ],
      "execution_count": null,
      "outputs": []
    },
    {
      "cell_type": "markdown",
      "metadata": {
        "id": "JPKXdxUDjfYG"
      },
      "source": [
        "**Expected output for both cells:**\r\n",
        "0\r\n",
        "2\r\n",
        "4\r\n",
        "6\r\n",
        "8\r\n",
        "10\r\n",
        "12\r\n",
        "14\r\n",
        "16\r\n",
        "18\r\n",
        "20\r\n",
        "\r\n"
      ]
    }
  ]
}