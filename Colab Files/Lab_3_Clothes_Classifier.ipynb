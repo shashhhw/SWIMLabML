{
  "nbformat": 4,
  "nbformat_minor": 0,
  "metadata": {
    "colab": {
      "name": "Lab 3: Clothes Classifier",
      "provenance": [],
      "collapsed_sections": []
    },
    "kernelspec": {
      "name": "python3",
      "display_name": "Python 3"
    },
    "accelerator": "GPU"
  },
  "cells": [
    {
      "cell_type": "markdown",
      "metadata": {
        "id": "cR_aWBiw5bds"
      },
      "source": [
        "In this lab, we will be working with a multiclass classsification problem to classify if the image falls under the category of 'tshirt', 'trouser', 'pullover', 'dress', 'coat', 'sandal', 'shirt', 'sneaker', 'bag' or 'ankle boot'. There are 10 classes in total. Refer to Lab 2 and complete sections of this notebook."
      ]
    },
    {
      "cell_type": "markdown",
      "metadata": {
        "id": "40TuTE846A5-"
      },
      "source": [
        "####Let's import the required libraries.####"
      ]
    },
    {
      "cell_type": "code",
      "metadata": {
        "id": "cR6k5y9xS-YS"
      },
      "source": [
        "import numpy as np \n",
        "import matplotlib.pyplot as plt\n",
        "from keras.datasets import fashion_mnist"
      ],
      "execution_count": null,
      "outputs": []
    },
    {
      "cell_type": "markdown",
      "metadata": {
        "id": "gZ-Jt0PlMEbF"
      },
      "source": [
        "##**Label the next cell section:**##\n",
        "The next section is _________ part of the ML step.\n",
        "(For example, next step is obtaining data part of the process.)"
      ]
    },
    {
      "cell_type": "code",
      "metadata": {
        "id": "Gn-6BqyiW_Bq"
      },
      "source": [
        "(train_images, train_labels), (test_images, test_labels) = fashion_mnist.load_data()\n",
        "\n",
        "#Ignore this line\n",
        "prediction_category_1 = test_images[9686]\n",
        "prediction_category_2 = test_images[9688]"
      ],
      "execution_count": null,
      "outputs": []
    },
    {
      "cell_type": "markdown",
      "metadata": {
        "id": "TN5fRNa8N0UQ"
      },
      "source": [
        "##**QUESTION**##\n",
        "How many training images do we have?\n",
        "\n",
        "YOUR ANSWER:\n",
        "\n",
        "How many test images do we have?\n",
        "\n",
        "YOUR ANSWER:"
      ]
    },
    {
      "cell_type": "code",
      "metadata": {
        "id": "Z7jH7vkhXIO5"
      },
      "source": [
        "print('Train: X=%s, y=%s' % (train_images.shape, train_labels.shape))\n",
        "print('Test: X=%s, y=%s' % (test_images.shape, test_labels.shape))"
      ],
      "execution_count": null,
      "outputs": []
    },
    {
      "cell_type": "markdown",
      "metadata": {
        "id": "jSs1WpGnOKF-"
      },
      "source": [
        "The next cell will show the different images we will be working with."
      ]
    },
    {
      "cell_type": "code",
      "metadata": {
        "id": "0G69IExXX2Wd"
      },
      "source": [
        "for i in range(9):\n",
        "\tplt.subplot(330 + 1 + i)\n",
        "\tplt.imshow(train_images[i], cmap = plt.get_cmap('gray'))\n",
        "plt.show()"
      ],
      "execution_count": null,
      "outputs": []
    },
    {
      "cell_type": "markdown",
      "metadata": {
        "id": "68ZVIf_mOQ9Q"
      },
      "source": [
        "Next step is the reshaping the image values to a 1D vector to input into algorithm."
      ]
    },
    {
      "cell_type": "code",
      "metadata": {
        "id": "sJXl4XW7a0d-"
      },
      "source": [
        "train_images = train_images.reshape((60000, 28*28))\n",
        "test_images = test_images.reshape((10000, 28*28))"
      ],
      "execution_count": null,
      "outputs": []
    },
    {
      "cell_type": "markdown",
      "metadata": {
        "id": "-_rWDsHka3rb"
      },
      "source": [
        "##**Label the next cell section:**##\n",
        "The next step is _____ part of the algorithm.\n",
        "\n",
        "####**QUESTION:**####\n",
        "Why did we divide the image values by 255?\n",
        "\n",
        "YOUR ANSWER:\n",
        "\n"
      ]
    },
    {
      "cell_type": "code",
      "metadata": {
        "id": "-9INx7AHbVzr"
      },
      "source": [
        "train_images = train_images.astype('float32')/255\n",
        "test_images = test_images.astype('float32')/255"
      ],
      "execution_count": null,
      "outputs": []
    },
    {
      "cell_type": "markdown",
      "metadata": {
        "id": "0qxPzu8ObbJ3"
      },
      "source": [
        "##**Label the next cell section:**##\n",
        "The next cell is ____ part of the algorithm."
      ]
    },
    {
      "cell_type": "code",
      "metadata": {
        "id": "Sp9Kq2i9bdsS"
      },
      "source": [
        "from keras.utils import to_categorical\n",
        "\n",
        "print(\"Explanation\")\n",
        "print(\"Our original labels: %d and %d\" %(train_labels[8], train_labels[56]))\n",
        "\n",
        "train_labels = to_categorical(train_labels)\n",
        "test_labels = to_categorical(test_labels)\n",
        "\n",
        "print(\"After assigning numeric values: \", train_labels[8])\n",
        "print(\"After assigning numeric values: \", train_labels[56])"
      ],
      "execution_count": null,
      "outputs": []
    },
    {
      "cell_type": "markdown",
      "metadata": {
        "id": "NAiUhEnELcZA"
      },
      "source": [
        "####**QUESTION:**####\n",
        "\n",
        "After \"encoding\" the labels, what would the encoded values of 7 and 8 be?\n",
        "\n",
        "YOUR ANSWER:"
      ]
    },
    {
      "cell_type": "markdown",
      "metadata": {
        "id": "71ye35p-cwMd"
      },
      "source": [
        "##**Label the next cell section:**##\n",
        "The next cell is ____ part of the algorithm."
      ]
    },
    {
      "cell_type": "code",
      "metadata": {
        "id": "5qYmdoGSc755"
      },
      "source": [
        "#import keras\n",
        "from keras import models, layers\n",
        "\n",
        "#Here we define our deep neural network\n",
        "network = models.Sequential()\n",
        "\n",
        "#Input Layer\n",
        "network.add(layers.InputLayer(((28 * 28, ))))\n",
        "\n",
        "#Hidden Layers\n",
        "\n",
        "####START CODE HERE####\n",
        "network.add(layers.Dense(4, activation = 'sigmoid'))\n",
        "network.add(layers.Dense(8, activation = 'sigmoid'))\n",
        "####END CODE HERE####\n",
        "\n",
        "#Output Layer\n",
        "network.add(layers.Dense(10, activation = 'softmax'))\n",
        "\n",
        "network.summary()\n"
      ],
      "execution_count": null,
      "outputs": []
    },
    {
      "cell_type": "markdown",
      "metadata": {
        "id": "YtBAthA0dE9W"
      },
      "source": [
        "More information on activation functions and optimizers.\n",
        "\n",
        "[Activation Function](https://keras.io/api/layers/activations/)\n",
        "\n",
        "[Optimizers](https://keras.io/api/optimizers/)"
      ]
    },
    {
      "cell_type": "markdown",
      "metadata": {
        "id": "EzKOAUBrPKyY"
      },
      "source": [
        "####**QUESTION**####\n",
        "Referring to the link above,\n",
        "\n",
        "List 5 different activation function:\n",
        "\n",
        "YOUR ANSWER:\n",
        "\n",
        "List 5 different optimizers:\n",
        "\n",
        "YOUR ANSWER:\n",
        "\n"
      ]
    },
    {
      "cell_type": "markdown",
      "metadata": {
        "id": "2J8ocTmRM5xJ"
      },
      "source": [
        "##**Label the next cell section:**##\n",
        "The next cell is ____ part of the algorithm."
      ]
    },
    {
      "cell_type": "code",
      "metadata": {
        "id": "fJk8OKjbdGDs"
      },
      "source": [
        "#In this part of the code, you will define the optimizer you want to use for the loss function\n",
        "#The 'categorical_crossentropy' for loss and 'accuracy' for metric won't change for classification\n",
        "\n",
        "####START CODE HERE####\n",
        "network.compile(optimizer = 'sgd', loss = 'categorical_crossentropy', metrics = 'accuracy')\n",
        "####END CODE HERE####"
      ],
      "execution_count": null,
      "outputs": []
    },
    {
      "cell_type": "markdown",
      "metadata": {
        "id": "9I_5OL0NdHxD"
      },
      "source": [
        "The next step is where the magic happens. This step is basically telling your network to strain the model in 5 iterations(or epochs) and take 128 batches of images for training in every iteration."
      ]
    },
    {
      "cell_type": "code",
      "metadata": {
        "id": "F63-upiqdJ-8"
      },
      "source": [
        "####START CODE HERE####\n",
        "network.fit(train_images, train_labels, epochs = 5, batch_size = 128)\n",
        "####END CODE HERE####"
      ],
      "execution_count": null,
      "outputs": []
    },
    {
      "cell_type": "markdown",
      "metadata": {
        "id": "nxa9LC7iQNA3"
      },
      "source": [
        "####**QUESTION**####\n",
        "What training accuracy did you get?\n",
        "\n",
        "YOUR ANSWER:\n",
        "\n"
      ]
    },
    {
      "cell_type": "markdown",
      "metadata": {
        "id": "qmywzr9_QZbz"
      },
      "source": [
        "The model is not performing that great. Now, we will try to increase the accuracy. Go back to the cell where you defined the model and do some of the following to improve accuracy.\n",
        "\n",
        "1. Add hidden layers\n",
        "2. Try different 'node' numbers in the hidden layers, increase it or decrease it.\n",
        "3. Change activation functions in the layers. \n",
        "4. Change optimizers.\n",
        "5. Change the epoch and batch size values.\n"
      ]
    },
    {
      "cell_type": "markdown",
      "metadata": {
        "id": "-heUF14RRFls"
      },
      "source": [
        "####**QUESTION**####\n",
        "After fine-tuning, how did your model perform?\n",
        "\n",
        "YOUR ANSWER:\n",
        "\n",
        "What did you change in your model? List some of it.\n",
        "\n"
      ]
    },
    {
      "cell_type": "code",
      "metadata": {
        "id": "L6iMoSW_dZyU"
      },
      "source": [
        "test_loss, test_acc = network.evaluate(test_images, test_labels)\n",
        "print('Average Test Accuracy: %2.2f percent' %(test_acc*100))"
      ],
      "execution_count": null,
      "outputs": []
    },
    {
      "cell_type": "markdown",
      "metadata": {
        "id": "2_volsftddCS"
      },
      "source": [
        "Let's see your model in action."
      ]
    },
    {
      "cell_type": "code",
      "metadata": {
        "id": "8NHqSXUadcbt"
      },
      "source": [
        "labels = {\n",
        "    '0': 'tshirt',\n",
        "    '1': 'trouser',\n",
        "    '2': 'pullover',\n",
        "    '3': 'dress',\n",
        "    '4': 'coat',\n",
        "    '5': 'sandal',\n",
        "    '6': 'shirt',\n",
        "    '7': 'sneaker',\n",
        "    '8': 'bag',\n",
        "    '9': 'ankle boot',\n",
        "}\n",
        "\n",
        "print(\"Our network is working?\")\n",
        "plt.imshow(prediction_category_1, cmap = plt.cm.binary)\n",
        "plt.show()\n",
        "\n",
        "prediction_category_1 = prediction_category_1.reshape((1, 28*28))\n",
        "prediction_category_1 = prediction_category_1.astype('float32')/255\n",
        "\n",
        "pred = network.predict(prediction_category_1)\n",
        "\n",
        "for i in range(len(pred[0])):\n",
        "  print(\"Probability of being %s is: %f\" %(labels[str(i)], pred[0][i]))\n",
        "\n",
        "max_pred = np.max(pred)\n",
        "index = np.where(pred == max_pred)\n",
        "index = np.array2string(index[1])\n",
        "index = index[1]\n",
        "\n",
        "print(\"\\n\")\n",
        "\n",
        "print(\"The digit is from class %s which means the image is: %s\" %(index, labels[index]))"
      ],
      "execution_count": null,
      "outputs": []
    },
    {
      "cell_type": "code",
      "metadata": {
        "id": "7KLDWfpFdfnE"
      },
      "source": [
        "plt.imshow(prediction_category_2, cmap = plt.cm.binary)\n",
        "plt.show()\n",
        "\n",
        "prediction_category_2 = prediction_category_2.reshape((1, 28*28))\n",
        "prediction_category_2 = prediction_category_2.astype('float32')/255\n",
        "\n",
        "pred = network.predict(prediction_category_2)\n",
        "\n",
        "for i in range(len(pred[0])):\n",
        "  print(\"Probability of being %s is: %f\" %(labels[str(i)], pred[0][i]))\n",
        "\n",
        "max_pred = np.max(pred)\n",
        "index = np.where(pred == max_pred)\n",
        "index = np.array2string(index[1])\n",
        "index = index[1]\n",
        "\n",
        "print(\"\\n\")\n",
        "\n",
        "print(\"The digit is from class %s which means the image is: %s\" %(index, labels[index]))"
      ],
      "execution_count": null,
      "outputs": []
    }
  ]
}